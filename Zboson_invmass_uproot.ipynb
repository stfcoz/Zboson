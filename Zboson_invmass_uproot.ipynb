{
 "cells": [
  {
   "cell_type": "markdown",
   "id": "e454cca0",
   "metadata": {},
   "source": [
    "# $Z^0$ decays: finding the $Z^0$ boson mass"
   ]
  },
  {
   "cell_type": "code",
   "execution_count": 10,
   "id": "d445e7d1",
   "metadata": {},
   "outputs": [],
   "source": [
    "import uproot\n",
    "import numpy as np\n",
    "import matplotlib.pyplot as plt"
   ]
  },
  {
   "cell_type": "code",
   "execution_count": 2,
   "id": "1da3d72d",
   "metadata": {},
   "outputs": [],
   "source": [
    "f = uproot.open(\"https://atlas-opendata.web.cern.ch/atlas-opendata/samples/2020/1largeRjet1lep/MC/mc_361106.Zee.1largeRjet1lep.root\")"
   ]
  },
  {
   "cell_type": "code",
   "execution_count": 3,
   "id": "01d9cda4",
   "metadata": {},
   "outputs": [],
   "source": [
    "events = f[\"mini\"]"
   ]
  },
  {
   "cell_type": "code",
   "execution_count": 5,
   "id": "fe65e9fd",
   "metadata": {},
   "outputs": [],
   "source": [
    "import hist\n",
    "from hist import Hist"
   ]
  },
  {
   "cell_type": "code",
   "execution_count": 6,
   "id": "f3325946",
   "metadata": {},
   "outputs": [],
   "source": [
    "Z0_hist = Hist(hist.axis.Regular(30, 40, 100, name=\"Mass [GeV]\"))"
   ]
  },
  {
   "cell_type": "code",
   "execution_count": null,
   "id": "079c9789",
   "metadata": {},
   "outputs": [],
   "source": []
  },
  {
   "cell_type": "code",
   "execution_count": null,
   "id": "9c615da8",
   "metadata": {},
   "outputs": [],
   "source": []
  },
  {
   "cell_type": "markdown",
   "id": "ab209de0",
   "metadata": {},
   "source": [
    "## Invariant mass"
   ]
  },
  {
   "cell_type": "markdown",
   "id": "528cb840",
   "metadata": {},
   "source": [
    "$$E = Mc^2 + \\bar{p}^2 c^2 \\; ; \\; E = E_1 + E_2 \\; , \\; \\bar{p} = \\bar{p}_1 + \\bar{p}_2 \\longrightarrow Mc^2 = \\sqrt{E^2 - \\bar{p}^2 c^2}$$"
   ]
  },
  {
   "cell_type": "markdown",
   "id": "eaea57d2",
   "metadata": {},
   "source": [
    "Particle of mass $M$ and energy $E$ decays into $2$ particles with masses $m_1$, $m_2$ and energies $E_1$, $E_2$"
   ]
  },
  {
   "cell_type": "markdown",
   "id": "7c33fa5e",
   "metadata": {},
   "source": [
    "Conservation of energy and momentum:"
   ]
  },
  {
   "cell_type": "markdown",
   "id": "d8aa72e8",
   "metadata": {},
   "source": [
    "$$Mc^2 = \\sqrt{(E_1 + E_2)^2 - (\\bar{p}_1 + \\bar{p}_2)c^2}$$"
   ]
  },
  {
   "cell_type": "markdown",
   "id": "e9c92e8e",
   "metadata": {},
   "source": [
    "$$= \\sqrt{E_1^2 + 2E_1 E_2 + E_2^2 - \\bar{p}_1^2 c^2 - 2\\bar{p}_1 \\bullet \\bar{p}_2 c^2 - \\bar{p}_2^2 c^2}$$"
   ]
  },
  {
   "cell_type": "markdown",
   "id": "3af079ab",
   "metadata": {},
   "source": [
    "$$= \\sqrt{2 E_1 + E_2 - 2c^2 \\vert \\bar{p}_1^2 \\vert \\vert \\bar{p}_2^2\\vert cos(\\theta) + m_1^2 c^4 + m_2^2 c^4} \\; \\; \\; \\; \\; (1)$$"
   ]
  },
  {
   "cell_type": "markdown",
   "id": "58c60ca2",
   "metadata": {},
   "source": [
    "Relativistic dispersion relation can be brought to following format"
   ]
  },
  {
   "cell_type": "markdown",
   "id": "82cb134d",
   "metadata": {},
   "source": [
    "$$M^2 c^4 = E^2 - \\bar{p}^2 c^2 \\longrightarrow E = \\sqrt{\\bar{p}^2 c^2 + M^2 c^4}$$"
   ]
  },
  {
   "cell_type": "markdown",
   "id": "2ab676aa",
   "metadata": {},
   "source": [
    "From where by setting $c = 1$ (natural units)"
   ]
  },
  {
   "cell_type": "markdown",
   "id": "596f70e4",
   "metadata": {},
   "source": [
    "$$M = \\sqrt{(E)^2 - (\\bar{p})^2} = \\sqrt{(E_1 + E_2)^2 - (\\bar{p}_1 + \\bar{p}_2)^2} \\; \\; \\; \\; \\; (2)$$"
   ]
  },
  {
   "cell_type": "markdown",
   "id": "ab0a58e6",
   "metadata": {},
   "source": [
    "And"
   ]
  },
  {
   "cell_type": "markdown",
   "id": "6c22dd0f",
   "metadata": {},
   "source": [
    "$$E = \\sqrt{\\bar{p}^2 + M^2} \\; \\; \\; \\; \\; (3)$$"
   ]
  },
  {
   "cell_type": "markdown",
   "id": "0210b591",
   "metadata": {},
   "source": [
    "Assuming mass of particles very small compared to momenta, find"
   ]
  },
  {
   "cell_type": "markdown",
   "id": "e21c0668",
   "metadata": {},
   "source": [
    "$$E = \\sqrt{\\bar{p}^2 + M^2} = \\vert \\bar{p} \\vert \\sqrt{1 + \\frac{M^2}{\\bar{p}^2}} \\xrightarrow[]{M \\lt \\lt \\vert \\bar{p} \\vert} \\vert \\bar{p} \\vert$$"
   ]
  },
  {
   "cell_type": "markdown",
   "id": "3bcadba4",
   "metadata": {},
   "source": [
    "Apply $E = \\bar{p}$ derived above and set $c = 1$ to $(1)$, reduce to format"
   ]
  },
  {
   "cell_type": "markdown",
   "id": "1c887ce5",
   "metadata": {},
   "source": [
    "$$M = \\sqrt{2E_1 E_2 (1 - cos (\\theta))}$$"
   ]
  },
  {
   "cell_type": "markdown",
   "id": "cf52d97e",
   "metadata": {},
   "source": [
    "where $\\theta$ is angle between momentum vectors of particles."
   ]
  },
  {
   "cell_type": "markdown",
   "id": "e5e22cf3",
   "metadata": {},
   "source": [
    "In experimental particle physics, formula is given by"
   ]
  },
  {
   "cell_type": "markdown",
   "id": "3b0ae569",
   "metadata": {},
   "source": []
  },
  {
   "cell_type": "markdown",
   "id": "7e96c1d9",
   "metadata": {},
   "source": []
  },
  {
   "cell_type": "markdown",
   "id": "7178a4d7",
   "metadata": {},
   "source": [
    "## Cuts"
   ]
  },
  {
   "cell_type": "code",
   "execution_count": 11,
   "id": "ace63f3c",
   "metadata": {},
   "outputs": [],
   "source": [
    "def inv_mass(pt1,pt2,eta1,eta2,phi1,phi2):\n",
    "    return np.sqrt(2*pt1*pt2 * (np.cosh(eta1 - eta2) - np.cos(phi1 - phi2)))"
   ]
  },
  {
   "cell_type": "code",
   "execution_count": 14,
   "id": "7cfdb56b",
   "metadata": {},
   "outputs": [],
   "source": [
    "sel_events = events.arrays([\"lep_pt\", \"lep_eta\", \"lep_phi\", \"lep_E\",\"lep_charge\", \"lep_type\", \"lep_n\"])\n",
    "\n",
    "for event in sel_events:\n",
    "    # Cut #1: At least 2 leptons in the event. lep_n  is the number of them.\n",
    "    \n",
    "    lep_n = event[\"lep_n\"]    \n",
    "    if lep_n >= 2:\n",
    "        \n",
    "        # Cut #2: Leptons with opposite charge.\n",
    "        #We have a list of charges, each corresponding to a lepton: lep_charges.\n",
    "        #Clearly, we can't let these be equal\n",
    "        lep_charge = event[\"lep_charge\"]\n",
    "        if (lep_charge[0] != lep_charge[1]):\n",
    "            \n",
    "            # Cut #3: Leptons of the same family (2 electrons or 2 muons).\n",
    "            # lep_type gives back a number, which is a code for what kind of lepton it is.\n",
    "            lep_type = event[\"lep_type\"]\n",
    "            if ( lep_type[0] == lep_type[1]):\n",
    "                \n",
    "                # By now we should only have paricles that look right remaining.\n",
    "                \n",
    "                # Let's set the components of a TLorentzVector for each lepton.\n",
    "                # Notice that the energy and momenta are given in MeV!\n",
    "                \n",
    "                lep_pt = event[\"lep_pt\"]\n",
    "                lep_eta = event[\"lep_eta\"]\n",
    "                lep_phi = event[\"lep_phi\"]\n",
    "                lep_E = event[\"lep_E\"]\n",
    "                \n",
    "                Z0_boson = inv_mass(lep_pt[0],lep_pt[1],lep_eta[0],lep_eta[1],lep_phi[0],lep_phi[1])\n",
    "                \n",
    "                #leadLepton.SetPtEtaPhiE(lep_pt[0]/1000., lep_eta[0], lep_phi[0], lep_E[0]/1000.)\n",
    "                #trailLepton.SetPtEtaPhiE(lep_pt[1]/1000., lep_eta[1], lep_phi[1], lep_E[1]/1000.)\n",
    "                \n",
    "                \n",
    "                \n",
    "                # Now, reconstruct the Z0 boson Lorentz vector! \n",
    "                # Remember, we can add them just like normal vectors.\n",
    "                #Z0_boson = leadLepton + trailLepton\n",
    "                \n",
    "                # Put this particular value into the histogram.\n",
    "                Z0_hist.fill(Z0_boson)"
   ]
  },
  {
   "cell_type": "code",
   "execution_count": 15,
   "id": "c8626927",
   "metadata": {},
   "outputs": [
    {
     "name": "stderr",
     "output_type": "stream",
     "text": [
      "/opt/ppd/software/anaconda/users/jhb73899/envs/notebook/lib/python3.7/site-packages/mplhep/error_estimation.py:40: RuntimeWarning: All sumw are zero!  Cannot compute meaningful error bars\n",
      "  RuntimeWarning,\n"
     ]
    },
    {
     "data": {
      "image/png": "[encoded data removed]",
      "text/plain": [
       "<Figure size 432x288 with 1 Axes>"
      ]
     },
     "metadata": {
      "needs_background": "light"
     },
     "output_type": "display_data"
    }
   ],
   "source": [
    "Z0_hist.plot()\n",
    "plt.title(\"Invariant mass of the $Z^0$ boson\")\n",
    "plt.show()"
   ]
  },
  {
   "cell_type": "code",
   "execution_count": null,
   "id": "40f74665",
   "metadata": {},
   "outputs": [],
   "source": []
  },
  {
   "cell_type": "code",
   "execution_count": null,
   "id": "34903825",
   "metadata": {},
   "outputs": [],
   "source": []
  },
  {
   "cell_type": "code",
   "execution_count": null,
   "id": "8eaa6145",
   "metadata": {},
   "outputs": [],
   "source": []
  },
  {
   "cell_type": "code",
   "execution_count": null,
   "id": "f28efdce",
   "metadata": {},
   "outputs": [],
   "source": []
  },
  {
   "cell_type": "code",
   "execution_count": null,
   "id": "643c88de",
   "metadata": {},
   "outputs": [],
   "source": []
  }
 ],
 "metadata": {
  "kernelspec": {
   "display_name": "Python 3 (ipykernel)",
   "language": "python",
   "name": "python3"
  },
  "language_info": {
   "codemirror_mode": {
    "name": "ipython",
    "version": 3
   },
   "file_extension": ".py",
   "mimetype": "text/x-python",
   "name": "python",
   "nbconvert_exporter": "python",
   "pygments_lexer": "ipython3",
   "version": "3.7.6"
  }
 },
 "nbformat": 4,
 "nbformat_minor": 5
}
