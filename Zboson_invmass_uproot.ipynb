{
 "cells": [
  {
   "cell_type": "markdown",
   "id": "b110fded",
   "metadata": {},
   "source": [
    "# $Z^0$ decays: finding the $Z^0$ boson mass"
   ]
  },
  {
   "cell_type": "code",
   "execution_count": null,
   "id": "ffde3ff0",
   "metadata": {},
   "outputs": [],
   "source": [
    "import uproot\n",
    "import numpy as np\n",
    "import matplotlib.pyplot as plt"
   ]
  },
  {
   "cell_type": "code",
   "execution_count": null,
   "id": "a4cf255a",
   "metadata": {},
   "outputs": [],
   "source": [
    "f = uproot.open(\"https://atlas-opendata.web.cern.ch/atlas-opendata/samples/2020/1largeRjet1lep/MC/mc_361106.Zee.1largeRjet1lep.root\")"
   ]
  },
  {
   "cell_type": "code",
   "execution_count": null,
   "id": "667a19b9",
   "metadata": {},
   "outputs": [],
   "source": [
    "events = f[\"mini\"]"
   ]
  },
  {
   "cell_type": "code",
   "execution_count": null,
   "id": "64d37df7",
   "metadata": {},
   "outputs": [],
   "source": [
    "import hist\n",
    "from hist import Hist"
   ]
  },
  {
   "cell_type": "code",
   "execution_count": null,
   "id": "d104a5ac",
   "metadata": {},
   "outputs": [],
   "source": [
    "Z0_hist = Hist(hist.axis.Regular(30, 40, 100, name=\"Mass [GeV]\"))"
   ]
  },
  {
   "cell_type": "markdown",
   "id": "69cb606c",
   "metadata": {},
   "source": [
    "## Cuts"
   ]
  },
  {
   "cell_type": "markdown",
   "id": "016a0d11",
   "metadata": {},
   "source": [
    "Uproot"
   ]
  },
  {
   "cell_type": "code",
   "execution_count": null,
   "id": "f71f81ee",
   "metadata": {},
   "outputs": [],
   "source": [
    "def inv_mass(pt1,pt2,eta1,eta2,phi1,phi2):\n",
    "    return np.sqrt(2*pt1*pt2 * (np.cosh(eta1 - eta2) - np.cos(phi1 - phi2)))"
   ]
  },
  {
   "cell_type": "code",
   "execution_count": null,
   "id": "9dd3356a",
   "metadata": {},
   "outputs": [],
   "source": [
    "sel_events = events.arrays([\"lep_pt\", \"lep_eta\", \"lep_phi\", \"lep_E\",\"lep_charge\", \"lep_type\", \"lep_n\"])\n",
    "\n",
    "for event in sel_events:\n",
    "    # Cut #1: At least 2 leptons in the event. lep_n  is the number of them.\n",
    "    \n",
    "    lep_n = event[\"lep_n\"]    \n",
    "    if lep_n >= 2:\n",
    "        \n",
    "        # Cut #2: Leptons with opposite charge.\n",
    "        #We have a list of charges, each corresponding to a lepton: lep_charges.\n",
    "        #Clearly, we can't let these be equal\n",
    "        lep_charge = event[\"lep_charge\"]\n",
    "        if (lep_charge[0] != lep_charge[1]):\n",
    "            \n",
    "            # Cut #3: Leptons of the same family (2 electrons or 2 muons).\n",
    "            # lep_type gives back a number, which is a code for what kind of lepton it is.\n",
    "            lep_type = event[\"lep_type\"]\n",
    "            if ( lep_type[0] == lep_type[1]):\n",
    "                \n",
    "                # By now we should only have paricles that look right remaining.\n",
    "                \n",
    "                # Let's set the components of a TLorentzVector for each lepton.\n",
    "                # Notice that the energy and momenta are given in MeV!\n",
    "                \n",
    "                lep_pt = event[\"lep_pt\"]\n",
    "                lep_eta = event[\"lep_eta\"]\n",
    "                lep_phi = event[\"lep_phi\"]\n",
    "                lep_E = event[\"lep_E\"]\n",
    "                \n",
    "                Z0_boson = inv_mass(lep_pt[0],lep_pt[1],lep_eta[0],lep_eta[1],lep_phi[0],lep_phi[1])\n",
    "                \n",
    "                #leadLepton.SetPtEtaPhiE(lep_pt[0]/1000., lep_eta[0], lep_phi[0], lep_E[0]/1000.)\n",
    "                #trailLepton.SetPtEtaPhiE(lep_pt[1]/1000., lep_eta[1], lep_phi[1], lep_E[1]/1000.)\n",
    "                \n",
    "                \n",
    "                \n",
    "                # Now, reconstruct the Z0 boson Lorentz vector! \n",
    "                # Remember, we can add them just like normal vectors.\n",
    "                #Z0_boson = leadLepton + trailLepton\n",
    "                \n",
    "                # Put this particular value into the histogram.\n",
    "                Z0_hist.fill(Z0_boson)"
   ]
  },
  {
   "cell_type": "code",
   "execution_count": null,
   "id": "66108dd5",
   "metadata": {},
   "outputs": [],
   "source": [
    "Z0_hist.plot()\n",
    "plt.title(\"Invariant mass of the $Z^0$ boson\")\n",
    "plt.show()"
   ]
  },
  {
   "cell_type": "markdown",
   "id": "4e1d06ad",
   "metadata": {},
   "source": [
    "## .csv file"
   ]
  },
  {
   "cell_type": "markdown",
   "id": "2aed0a94",
   "metadata": {},
   "source": [
    "#### Getting data"
   ]
  },
  {
   "cell_type": "code",
   "execution_count": null,
   "id": "23da8ead",
   "metadata": {},
   "outputs": [],
   "source": [
    "import pandas as pd\n",
    "import numpy as np"
   ]
  },
  {
   "cell_type": "code",
   "execution_count": null,
   "id": "fd0e3f37",
   "metadata": {},
   "outputs": [],
   "source": [
    "f = pd.read_csv('DoubleMuRun2011A.csv')"
   ]
  },
  {
   "cell_type": "code",
   "execution_count": null,
   "id": "3387877c",
   "metadata": {},
   "outputs": [],
   "source": [
    "len(f)"
   ]
  },
  {
   "cell_type": "code",
   "execution_count": null,
   "id": "b8fd576f",
   "metadata": {
    "scrolled": true
   },
   "outputs": [],
   "source": [
    "f.head(5)"
   ]
  },
  {
   "cell_type": "markdown",
   "id": "f1f7117d",
   "metadata": {},
   "source": [
    "#### Plotting px"
   ]
  },
  {
   "cell_type": "code",
   "execution_count": null,
   "id": "7b41885f",
   "metadata": {},
   "outputs": [],
   "source": [
    "import matplotlib.pyplot as plt"
   ]
  },
  {
   "cell_type": "code",
   "execution_count": null,
   "id": "084cceba",
   "metadata": {},
   "outputs": [],
   "source": [
    "import hist\n",
    "from hist import Hist"
   ]
  },
  {
   "cell_type": "code",
   "execution_count": null,
   "id": "fe64b67d",
   "metadata": {},
   "outputs": [],
   "source": [
    "px_hist = Hist(hist.axis.Regular(100, -20, 20, name=\"px\"))"
   ]
  },
  {
   "cell_type": "code",
   "execution_count": null,
   "id": "4233b98b",
   "metadata": {},
   "outputs": [],
   "source": [
    "px1 = f['px1']\n",
    "#plt.hist(px1, bins=100, range=(-20.,20.))\n",
    "px_hist.fill(px1)\n",
    "px_hist.plot(histtype = \"fill\")\n",
    "plt.show()"
   ]
  },
  {
   "cell_type": "code",
   "execution_count": null,
   "id": "7ae30ffb",
   "metadata": {},
   "outputs": [],
   "source": [
    "px_hist.fill(px1)\n",
    "px_hist.plot(histtype = \"fill\")\n",
    "plt.xlabel('x-component of momentum [GeV]')\n",
    "plt.ylabel('Number of events')\n",
    "plt.title('Histogram of px for muon 1. \\n')\n",
    "\n",
    "plt.show()"
   ]
  },
  {
   "cell_type": "markdown",
   "id": "2b556dd6",
   "metadata": {},
   "source": [
    "#### Plotting invariant mass"
   ]
  },
  {
   "cell_type": "code",
   "execution_count": null,
   "id": "41c8eb6e",
   "metadata": {},
   "outputs": [],
   "source": [
    "invm = f['M']\n",
    "nbins = 500\n",
    "invm_hist = Hist(hist.axis.Regular(nbins, 0.5, 120, name=\"Invariant mass [GeV]\"))\n",
    "invm_hist.fill(invm)\n",
    "invm_hist.plot(histtype = \"fill\")\n",
    "\n",
    "plt.show()"
   ]
  },
  {
   "cell_type": "code",
   "execution_count": null,
   "id": "a55d4b42",
   "metadata": {},
   "outputs": [],
   "source": [
    "invm_hist.fill(invm)\n",
    "invm_hist.plot(histtype = \"fill\")\n",
    "plt.yscale('log')\n",
    "plt.xscale('log')\n",
    "\n",
    "plt.show()"
   ]
  },
  {
   "cell_type": "code",
   "execution_count": null,
   "id": "5db4ae86",
   "metadata": {},
   "outputs": [],
   "source": [
    "# You need the Mass of the Muon to calculate the energy\n",
    "muMass = 0.105658\n",
    "\n",
    "# Momentum squared for the two individual muons\n",
    "p1_squared = (f[\"px1\"])**2 + (f[\"py1\"])**2 + (f[\"pz1\"])**2\n",
    "p2_squared = (f[\"px2\"])**2 + (f[\"py2\"])**2 + (f[\"pz2\"])**2\n",
    "\n",
    "# Energy of the two individual muons\n",
    "e1 = np.sqrt(p1_squared + (muMass*muMass))\n",
    "e2 = np.sqrt(p2_squared + (muMass*muMass))\n",
    "\n",
    "# Total Energy of the two muons \n",
    "epair = e1 + e2 \n",
    "\n",
    "# Momentum squared of the muon pair vector (p1+p2) - remember to add the vectors before squaring\n",
    "ptpair_squared = (f[\"px1\"] + f[\"px2\"])**2 + (f[\"py1\"] + f[\"py2\"])**2 + (f[\"pz1\"] + f[\"pz2\"])**2\n",
    "\n",
    "# Invariant mass of the muon pair, save this in  variable called \"invariant_mass\"\n",
    "invariant_mass = np.sqrt(epair**2 - ptpair_squared)"
   ]
  },
  {
   "cell_type": "code",
   "execution_count": null,
   "id": "fc7949a2",
   "metadata": {},
   "outputs": [],
   "source": [
    "invar_hist = Hist(hist.axis.Regular(100, 60, 120, name=\"Invariant mass [GeV]\"))\n",
    "invar_hist.fill(invariant_mass)\n",
    "invar_hist.plot(histtype = \"fill\")\n",
    "plt.show()"
   ]
  },
  {
   "cell_type": "markdown",
   "id": "639d3c91",
   "metadata": {},
   "source": [
    "## Higgs to 4 leptons"
   ]
  },
  {
   "cell_type": "code",
   "execution_count": null,
   "id": "ed100225",
   "metadata": {},
   "outputs": [],
   "source": [
    "# Here we load the data for the different final sets of particles\n",
    "f_2e2mu_2011 = pd.read_csv('2e2mu_2011.csv')\n",
    "f_2e2mu_2012 = pd.read_csv('2e2mu_2012.csv')\n",
    "f_4e_2011 = pd.read_csv('4e_2011.csv')\n",
    "f_4e_2012 = pd.read_csv('4e_2012.csv')\n",
    "f_4mu_2011 = pd.read_csv('4mu_2011.csv')\n",
    "f_4mu_2012 = pd.read_csv('4mu_2012.csv')\n",
    "\n",
    "# Here we concatenate the 6 datasets into one called \"f2\"\n",
    "f2 = pd.concat([f_2e2mu_2011, f_2e2mu_2012, f_4e_2011, f_4e_2012, f_4mu_2011, f_4mu_2012], axis=0, ignore_index=True)"
   ]
  },
  {
   "cell_type": "code",
   "execution_count": null,
   "id": "f3044920",
   "metadata": {},
   "outputs": [],
   "source": [
    "# Total Energy of the four leptons\n",
    "E = f2[\"E1\"] + f2[\"E2\"] + f2[\"E3\"] + f2[\"E4\"]\n",
    "\n",
    "#Total momentum in the x direction of the four leptons\n",
    "px = f2[\"px1\"] + f2[\"px2\"] + f2[\"px3\"] + f2[\"px4\"]\n",
    "\n",
    "#Total momentum in the y direction of the four leptons\n",
    "py = f2[\"py1\"] + f2[\"py2\"] + f2[\"py3\"] + f2[\"py4\"]\n",
    "\n",
    "#Total momentum in the z direction of the four leptons\n",
    "pz = f2[\"pz1\"] + f2[\"px2\"] + f2[\"pz3\"] + f2[\"pz4\"]\n",
    "\n",
    "# Now calculate the invariant mass using Equation (2) above and assign it to a variable called 'invariant_mass_2e2mu'\n",
    "invariant_mass_2e2mu = np.sqrt(E**2 - px**2 - py**2 - pz**2)"
   ]
  },
  {
   "cell_type": "code",
   "execution_count": null,
   "id": "8f5c4910",
   "metadata": {},
   "outputs": [],
   "source": [
    "leps_hist = Hist(hist.axis.Regular(60, 45, 180, name=\"Invariant mass [GeV]\"))\n",
    "leps_hist.fill(invariant_mass_2e2mu)\n",
    "leps_hist.plot(histtype = \"fill\")\n",
    "\n",
    "plt.xlabel('Invariant mass [GeV]')\n",
    "plt.ylabel('Number of events')\n",
    "plt.title('Histogram of invariant mass values of four leptons. \\n')\n",
    "\n",
    "plt.ylim(0,9)\n",
    "plt.arrow(70, 7.5, 15, -4.2,length_includes_head=True, width=0.2, fc='r', ec='r')\n",
    "plt.text(60, 8, 'Z Boson', fontsize=12)\n",
    "plt.arrow(125, 7.5, -2, -3.4,length_includes_head=True, width=0.5, fc='r', ec='r')\n",
    "plt.text(110, 8, 'Higgs Boson', fontsize=12)\n",
    "\n",
    "plt.show()"
   ]
  }
 ],
 "metadata": {
  "kernelspec": {
   "display_name": "Python 3 (ipykernel)",
   "language": "python",
   "name": "python3"
  },
  "language_info": {
   "codemirror_mode": {
    "name": "ipython",
    "version": 3
   },
   "file_extension": ".py",
   "mimetype": "text/x-python",
   "name": "python",
   "nbconvert_exporter": "python",
   "pygments_lexer": "ipython3",
   "version": "3.7.6"
  }
 },
 "nbformat": 4,
 "nbformat_minor": 5
}
